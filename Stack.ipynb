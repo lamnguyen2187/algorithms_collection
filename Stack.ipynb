{
  "nbformat": 4,
  "nbformat_minor": 0,
  "metadata": {
    "colab": {
      "name": "Stack.ipynb",
      "provenance": [],
      "collapsed_sections": [],
      "authorship_tag": "ABX9TyMDWpEpNWZyjNDeq3IBJRxc",
      "include_colab_link": true
    },
    "kernelspec": {
      "name": "python3",
      "display_name": "Python 3"
    }
  },
  "cells": [
    {
      "cell_type": "markdown",
      "metadata": {
        "id": "view-in-github",
        "colab_type": "text"
      },
      "source": [
        "<a href=\"https://colab.research.google.com/github/lamnguyen2187/algorithms_collection/blob/colab/Stack.ipynb\" target=\"_parent\"><img src=\"https://colab.research.google.com/assets/colab-badge.svg\" alt=\"Open In Colab\"/></a>"
      ]
    },
    {
      "cell_type": "markdown",
      "metadata": {
        "id": "tahJIWUdp6bU",
        "colab_type": "text"
      },
      "source": [
        "Create the max number of `k` digits from an array of `n` digits where `k` <= `n`, while preserving the relative order of the digits\n",
        "\n"
      ]
    },
    {
      "cell_type": "code",
      "metadata": {
        "id": "PvKsiJ2orqj-",
        "colab_type": "code",
        "outputId": "bce0c125-4d9b-47c2-c20b-e985477053db",
        "colab": {
          "base_uri": "https://localhost:8080/",
          "height": 68
        }
      },
      "source": [
        "# naive sorting\n",
        "# wrong solution as this does not preserve the order\n",
        "def maxK(arr, k):\n",
        "  return sorted(arr, reverse=True)[:k]\n",
        "\n",
        "print(maxK([2,4,2,1], 2))\n",
        "print(maxK([2,6,7,8], 2))\n",
        "print(maxK([2,6,7,8], 4))"
      ],
      "execution_count": 10,
      "outputs": [
        {
          "output_type": "stream",
          "text": [
            "[4, 2]\n",
            "[8, 7]\n",
            "[8, 7, 6, 2]\n"
          ],
          "name": "stdout"
        }
      ]
    },
    {
      "cell_type": "code",
      "metadata": {
        "id": "JWGzUTuK1oeS",
        "colab_type": "code",
        "colab": {
          "base_uri": "https://localhost:8080/",
          "height": 170
        },
        "outputId": "bbfed988-164b-4d63-fc28-5df05e5cfd72"
      },
      "source": [
        "# heap\n",
        "import heapq\n",
        "\n",
        "# worst case complexity O(log(N)*N**2)\n",
        "# when the array is sorted in ascending order and k == n\n",
        "# the reason is because at each iteration, the code pops and discards k-1 elements from the heap\n",
        "def maxK(arr, k):\n",
        "  n = len(arr)\n",
        "  pq = [(-v, idx) for idx, v in enumerate(arr)]\n",
        "  heapq.heapify(pq)\n",
        "  ans = []\n",
        "  last = -1\n",
        "\n",
        "  while k:\n",
        "    tmp = []\n",
        "    while pq and n-pq[0][1] < k:      \n",
        "      tmp += heapq.heappop(pq),\n",
        "  \n",
        "    if pq:\n",
        "      v, idx = heapq.heappop(pq)\n",
        "      if idx > last:\n",
        "        ans += -v,\n",
        "        last = idx \n",
        "        k -= 1\n",
        "\n",
        "    while tmp:\n",
        "      heapq.heappush(pq, tmp.pop())\n",
        "  return ans\n",
        "\n",
        "print(maxK([2,4,2,1], 1))\n",
        "print(maxK([2,4,2,1], 2))\n",
        "print(maxK([2,4,2,1], 3))\n",
        "print(maxK([2,4,2,1], 4))\n",
        "\n",
        "print(maxK([2,6,7,8], 1))\n",
        "print(maxK([2,6,7,8], 2))\n",
        "print(maxK([2,6,7,8], 3))\n",
        "print(maxK([2,6,7,8], 4))\n",
        "\n",
        "print(maxK([1,2,3,4,5], 5))"
      ],
      "execution_count": 22,
      "outputs": [
        {
          "output_type": "stream",
          "text": [
            "[4]\n",
            "[4, 2]\n",
            "[4, 2, 1]\n",
            "[2, 4, 2, 1]\n",
            "[8]\n",
            "[7, 8]\n",
            "[6, 7, 8]\n",
            "[2, 6, 7, 8]\n",
            "[1, 2, 3, 4, 5]\n"
          ],
          "name": "stdout"
        }
      ]
    },
    {
      "cell_type": "code",
      "metadata": {
        "id": "Hux4USM0t1gM",
        "colab_type": "code",
        "colab": {
          "base_uri": "https://localhost:8080/",
          "height": 170
        },
        "outputId": "246c7791-e973-4668-ee5b-f550e786b6d7"
      },
      "source": [
        "# stack\n",
        "# O(N)\n",
        "def maxK(arr, k):\n",
        "  stack = []\n",
        "  n = len(arr)\n",
        "  for idx, v in enumerate(arr):\n",
        "    while n - idx + len(stack) > k and stack and stack[-1] < v:\n",
        "      stack.pop()\n",
        "    if len(stack) < k:\n",
        "      stack += v,\n",
        "\n",
        "  return stack\n",
        "\n",
        "print(maxK([2,4,2,1], 1))\n",
        "print(maxK([2,4,2,1], 2))\n",
        "print(maxK([2,4,2,1], 3))\n",
        "print(maxK([2,4,2,1], 4))\n",
        "\n",
        "print(maxK([2,6,7,8], 1))\n",
        "print(maxK([2,6,7,8], 2))\n",
        "print(maxK([2,6,7,8], 3))\n",
        "print(maxK([2,6,7,8], 4))\n",
        "\n",
        "print(maxK([1,2,3,4,5], 5))"
      ],
      "execution_count": 23,
      "outputs": [
        {
          "output_type": "stream",
          "text": [
            "[4]\n",
            "[4, 2]\n",
            "[4, 2, 1]\n",
            "[2, 4, 2, 1]\n",
            "[8]\n",
            "[7, 8]\n",
            "[6, 7, 8]\n",
            "[2, 6, 7, 8]\n",
            "[1, 2, 3, 4, 5]\n"
          ],
          "name": "stdout"
        }
      ]
    }
  ]
}