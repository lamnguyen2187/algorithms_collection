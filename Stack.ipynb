{
  "nbformat": 4,
  "nbformat_minor": 0,
  "metadata": {
    "colab": {
      "name": "Stack.ipynb",
      "provenance": [],
      "collapsed_sections": [],
      "authorship_tag": "ABX9TyMlvZMXaCml45iTL4BW8alC",
      "include_colab_link": true
    },
    "kernelspec": {
      "name": "python3",
      "display_name": "Python 3"
    }
  },
  "cells": [
    {
      "cell_type": "markdown",
      "metadata": {
        "id": "view-in-github",
        "colab_type": "text"
      },
      "source": [
        "<a href=\"https://colab.research.google.com/github/lamnguyen2187/algorithms_collection/blob/colab/Stack.ipynb\" target=\"_parent\"><img src=\"https://colab.research.google.com/assets/colab-badge.svg\" alt=\"Open In Colab\"/></a>"
      ]
    },
    {
      "cell_type": "markdown",
      "metadata": {
        "id": "tahJIWUdp6bU",
        "colab_type": "text"
      },
      "source": [
        "Find K largest elements in an array"
      ]
    },
    {
      "cell_type": "code",
      "metadata": {
        "id": "PvKsiJ2orqj-",
        "colab_type": "code",
        "colab": {
          "base_uri": "https://localhost:8080/",
          "height": 34
        },
        "outputId": "cf6ee4c4-9ddd-4a35-eec6-23c48a688a99"
      },
      "source": [
        "# naive sorting\n",
        "def maxK(arr, k):\n",
        "  return sorted(arr)[:k]\n",
        "\n",
        "print(maxK([2,4,2,1], 2))"
      ],
      "execution_count": 1,
      "outputs": [
        {
          "output_type": "stream",
          "text": [
            "[1, 2]\n"
          ],
          "name": "stdout"
        }
      ]
    }
  ]
}